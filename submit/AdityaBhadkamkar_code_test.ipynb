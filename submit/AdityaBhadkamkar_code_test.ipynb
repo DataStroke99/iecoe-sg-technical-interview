{
 "cells": [
  {
   "cell_type": "markdown",
   "id": "pointed-replica",
   "metadata": {},
   "source": [
    "# Problem Description"
   ]
  },
  {
   "cell_type": "code",
   "execution_count": null,
   "id": "wireless-grade",
   "metadata": {},
   "outputs": [],
   "source": [
    "\"\"\"\n",
    "\n",
    "\n",
    "\"\"\""
   ]
  },
  {
   "cell_type": "code",
   "execution_count": 2,
   "id": "atomic-consensus",
   "metadata": {},
   "outputs": [],
   "source": [
    "import pandas as pd \n",
    "import numpy\n",
    "import seaborn as sns\n",
    "import matplotlib.pyplot as plt\n",
    "\n",
    "\n",
    "\n",
    "\n",
    "#Print Options\n",
    "import sys\n",
    "import numpy\n",
    "numpy.set_printoptions(threshold=sys.maxsize)"
   ]
  },
  {
   "cell_type": "markdown",
   "id": "minimal-affairs",
   "metadata": {},
   "source": [
    "# Read Data"
   ]
  },
  {
   "cell_type": "code",
   "execution_count": 3,
   "id": "innocent-borough",
   "metadata": {},
   "outputs": [],
   "source": [
    "#Reading Data\n",
    "\n",
    "df_true = pd.read_csv(\"../data/True.csv\")\n",
    "df_fake = pd.read_csv(\"../data/Fake.csv\")\n"
   ]
  },
  {
   "cell_type": "code",
   "execution_count": 4,
   "id": "bound-smooth",
   "metadata": {},
   "outputs": [
    {
     "data": {
      "text/html": [
       "<div>\n",
       "<style scoped>\n",
       "    .dataframe tbody tr th:only-of-type {\n",
       "        vertical-align: middle;\n",
       "    }\n",
       "\n",
       "    .dataframe tbody tr th {\n",
       "        vertical-align: top;\n",
       "    }\n",
       "\n",
       "    .dataframe thead th {\n",
       "        text-align: right;\n",
       "    }\n",
       "</style>\n",
       "<table border=\"1\" class=\"dataframe\">\n",
       "  <thead>\n",
       "    <tr style=\"text-align: right;\">\n",
       "      <th></th>\n",
       "      <th>title</th>\n",
       "      <th>text</th>\n",
       "      <th>subject</th>\n",
       "      <th>date</th>\n",
       "    </tr>\n",
       "  </thead>\n",
       "  <tbody>\n",
       "    <tr>\n",
       "      <th>0</th>\n",
       "      <td>As U.S. budget fight looms, Republicans flip t...</td>\n",
       "      <td>WASHINGTON (Reuters) - The head of a conservat...</td>\n",
       "      <td>politicsNews</td>\n",
       "      <td>December 31, 2017</td>\n",
       "    </tr>\n",
       "    <tr>\n",
       "      <th>1</th>\n",
       "      <td>U.S. military to accept transgender recruits o...</td>\n",
       "      <td>WASHINGTON (Reuters) - Transgender people will...</td>\n",
       "      <td>politicsNews</td>\n",
       "      <td>December 29, 2017</td>\n",
       "    </tr>\n",
       "    <tr>\n",
       "      <th>2</th>\n",
       "      <td>Senior U.S. Republican senator: 'Let Mr. Muell...</td>\n",
       "      <td>WASHINGTON (Reuters) - The special counsel inv...</td>\n",
       "      <td>politicsNews</td>\n",
       "      <td>December 31, 2017</td>\n",
       "    </tr>\n",
       "    <tr>\n",
       "      <th>3</th>\n",
       "      <td>FBI Russia probe helped by Australian diplomat...</td>\n",
       "      <td>WASHINGTON (Reuters) - Trump campaign adviser ...</td>\n",
       "      <td>politicsNews</td>\n",
       "      <td>December 30, 2017</td>\n",
       "    </tr>\n",
       "    <tr>\n",
       "      <th>4</th>\n",
       "      <td>Trump wants Postal Service to charge 'much mor...</td>\n",
       "      <td>SEATTLE/WASHINGTON (Reuters) - President Donal...</td>\n",
       "      <td>politicsNews</td>\n",
       "      <td>December 29, 2017</td>\n",
       "    </tr>\n",
       "  </tbody>\n",
       "</table>\n",
       "</div>"
      ],
      "text/plain": [
       "                                               title  \\\n",
       "0  As U.S. budget fight looms, Republicans flip t...   \n",
       "1  U.S. military to accept transgender recruits o...   \n",
       "2  Senior U.S. Republican senator: 'Let Mr. Muell...   \n",
       "3  FBI Russia probe helped by Australian diplomat...   \n",
       "4  Trump wants Postal Service to charge 'much mor...   \n",
       "\n",
       "                                                text       subject  \\\n",
       "0  WASHINGTON (Reuters) - The head of a conservat...  politicsNews   \n",
       "1  WASHINGTON (Reuters) - Transgender people will...  politicsNews   \n",
       "2  WASHINGTON (Reuters) - The special counsel inv...  politicsNews   \n",
       "3  WASHINGTON (Reuters) - Trump campaign adviser ...  politicsNews   \n",
       "4  SEATTLE/WASHINGTON (Reuters) - President Donal...  politicsNews   \n",
       "\n",
       "                 date  \n",
       "0  December 31, 2017   \n",
       "1  December 29, 2017   \n",
       "2  December 31, 2017   \n",
       "3  December 30, 2017   \n",
       "4  December 29, 2017   "
      ]
     },
     "execution_count": 4,
     "metadata": {},
     "output_type": "execute_result"
    }
   ],
   "source": [
    "df_true.head()"
   ]
  },
  {
   "cell_type": "code",
   "execution_count": 5,
   "id": "recreational-daily",
   "metadata": {},
   "outputs": [
    {
     "data": {
      "text/html": [
       "<div>\n",
       "<style scoped>\n",
       "    .dataframe tbody tr th:only-of-type {\n",
       "        vertical-align: middle;\n",
       "    }\n",
       "\n",
       "    .dataframe tbody tr th {\n",
       "        vertical-align: top;\n",
       "    }\n",
       "\n",
       "    .dataframe thead th {\n",
       "        text-align: right;\n",
       "    }\n",
       "</style>\n",
       "<table border=\"1\" class=\"dataframe\">\n",
       "  <thead>\n",
       "    <tr style=\"text-align: right;\">\n",
       "      <th></th>\n",
       "      <th>title</th>\n",
       "      <th>text</th>\n",
       "      <th>subject</th>\n",
       "      <th>date</th>\n",
       "    </tr>\n",
       "  </thead>\n",
       "  <tbody>\n",
       "    <tr>\n",
       "      <th>0</th>\n",
       "      <td>Donald Trump Sends Out Embarrassing New Year’...</td>\n",
       "      <td>Donald Trump just couldn t wish all Americans ...</td>\n",
       "      <td>News</td>\n",
       "      <td>December 31, 2017</td>\n",
       "    </tr>\n",
       "    <tr>\n",
       "      <th>1</th>\n",
       "      <td>Drunk Bragging Trump Staffer Started Russian ...</td>\n",
       "      <td>House Intelligence Committee Chairman Devin Nu...</td>\n",
       "      <td>News</td>\n",
       "      <td>December 31, 2017</td>\n",
       "    </tr>\n",
       "    <tr>\n",
       "      <th>2</th>\n",
       "      <td>Sheriff David Clarke Becomes An Internet Joke...</td>\n",
       "      <td>On Friday, it was revealed that former Milwauk...</td>\n",
       "      <td>News</td>\n",
       "      <td>December 30, 2017</td>\n",
       "    </tr>\n",
       "    <tr>\n",
       "      <th>3</th>\n",
       "      <td>Trump Is So Obsessed He Even Has Obama’s Name...</td>\n",
       "      <td>On Christmas day, Donald Trump announced that ...</td>\n",
       "      <td>News</td>\n",
       "      <td>December 29, 2017</td>\n",
       "    </tr>\n",
       "    <tr>\n",
       "      <th>4</th>\n",
       "      <td>Pope Francis Just Called Out Donald Trump Dur...</td>\n",
       "      <td>Pope Francis used his annual Christmas Day mes...</td>\n",
       "      <td>News</td>\n",
       "      <td>December 25, 2017</td>\n",
       "    </tr>\n",
       "  </tbody>\n",
       "</table>\n",
       "</div>"
      ],
      "text/plain": [
       "                                               title  \\\n",
       "0   Donald Trump Sends Out Embarrassing New Year’...   \n",
       "1   Drunk Bragging Trump Staffer Started Russian ...   \n",
       "2   Sheriff David Clarke Becomes An Internet Joke...   \n",
       "3   Trump Is So Obsessed He Even Has Obama’s Name...   \n",
       "4   Pope Francis Just Called Out Donald Trump Dur...   \n",
       "\n",
       "                                                text subject  \\\n",
       "0  Donald Trump just couldn t wish all Americans ...    News   \n",
       "1  House Intelligence Committee Chairman Devin Nu...    News   \n",
       "2  On Friday, it was revealed that former Milwauk...    News   \n",
       "3  On Christmas day, Donald Trump announced that ...    News   \n",
       "4  Pope Francis used his annual Christmas Day mes...    News   \n",
       "\n",
       "                date  \n",
       "0  December 31, 2017  \n",
       "1  December 31, 2017  \n",
       "2  December 30, 2017  \n",
       "3  December 29, 2017  \n",
       "4  December 25, 2017  "
      ]
     },
     "execution_count": 5,
     "metadata": {},
     "output_type": "execute_result"
    }
   ],
   "source": [
    "df_fake.head()"
   ]
  },
  {
   "cell_type": "markdown",
   "id": "thorough-pricing",
   "metadata": {},
   "source": [
    "# Data Cleaning"
   ]
  },
  {
   "cell_type": "code",
   "execution_count": 6,
   "id": "atomic-broad",
   "metadata": {},
   "outputs": [],
   "source": [
    "#Add column y to label each row into a particular class i.e. True/Fake, this coulumn would act as class label\n",
    "df_true['y'] = 0 # 0 - True\n",
    "df_fake['y'] = 1 # 1 - Fake\n",
    "\n"
   ]
  },
  {
   "cell_type": "code",
   "execution_count": 7,
   "id": "manual-frontier",
   "metadata": {},
   "outputs": [
    {
     "data": {
      "text/html": [
       "<div>\n",
       "<style scoped>\n",
       "    .dataframe tbody tr th:only-of-type {\n",
       "        vertical-align: middle;\n",
       "    }\n",
       "\n",
       "    .dataframe tbody tr th {\n",
       "        vertical-align: top;\n",
       "    }\n",
       "\n",
       "    .dataframe thead th {\n",
       "        text-align: right;\n",
       "    }\n",
       "</style>\n",
       "<table border=\"1\" class=\"dataframe\">\n",
       "  <thead>\n",
       "    <tr style=\"text-align: right;\">\n",
       "      <th></th>\n",
       "      <th>title</th>\n",
       "      <th>text</th>\n",
       "      <th>subject</th>\n",
       "      <th>date</th>\n",
       "      <th>y</th>\n",
       "    </tr>\n",
       "  </thead>\n",
       "  <tbody>\n",
       "    <tr>\n",
       "      <th>0</th>\n",
       "      <td>As U.S. budget fight looms, Republicans flip t...</td>\n",
       "      <td>WASHINGTON (Reuters) - The head of a conservat...</td>\n",
       "      <td>politicsNews</td>\n",
       "      <td>December 31, 2017</td>\n",
       "      <td>0</td>\n",
       "    </tr>\n",
       "    <tr>\n",
       "      <th>1</th>\n",
       "      <td>U.S. military to accept transgender recruits o...</td>\n",
       "      <td>WASHINGTON (Reuters) - Transgender people will...</td>\n",
       "      <td>politicsNews</td>\n",
       "      <td>December 29, 2017</td>\n",
       "      <td>0</td>\n",
       "    </tr>\n",
       "    <tr>\n",
       "      <th>2</th>\n",
       "      <td>Senior U.S. Republican senator: 'Let Mr. Muell...</td>\n",
       "      <td>WASHINGTON (Reuters) - The special counsel inv...</td>\n",
       "      <td>politicsNews</td>\n",
       "      <td>December 31, 2017</td>\n",
       "      <td>0</td>\n",
       "    </tr>\n",
       "    <tr>\n",
       "      <th>3</th>\n",
       "      <td>FBI Russia probe helped by Australian diplomat...</td>\n",
       "      <td>WASHINGTON (Reuters) - Trump campaign adviser ...</td>\n",
       "      <td>politicsNews</td>\n",
       "      <td>December 30, 2017</td>\n",
       "      <td>0</td>\n",
       "    </tr>\n",
       "    <tr>\n",
       "      <th>4</th>\n",
       "      <td>Trump wants Postal Service to charge 'much mor...</td>\n",
       "      <td>SEATTLE/WASHINGTON (Reuters) - President Donal...</td>\n",
       "      <td>politicsNews</td>\n",
       "      <td>December 29, 2017</td>\n",
       "      <td>0</td>\n",
       "    </tr>\n",
       "  </tbody>\n",
       "</table>\n",
       "</div>"
      ],
      "text/plain": [
       "                                               title  \\\n",
       "0  As U.S. budget fight looms, Republicans flip t...   \n",
       "1  U.S. military to accept transgender recruits o...   \n",
       "2  Senior U.S. Republican senator: 'Let Mr. Muell...   \n",
       "3  FBI Russia probe helped by Australian diplomat...   \n",
       "4  Trump wants Postal Service to charge 'much mor...   \n",
       "\n",
       "                                                text       subject  \\\n",
       "0  WASHINGTON (Reuters) - The head of a conservat...  politicsNews   \n",
       "1  WASHINGTON (Reuters) - Transgender people will...  politicsNews   \n",
       "2  WASHINGTON (Reuters) - The special counsel inv...  politicsNews   \n",
       "3  WASHINGTON (Reuters) - Trump campaign adviser ...  politicsNews   \n",
       "4  SEATTLE/WASHINGTON (Reuters) - President Donal...  politicsNews   \n",
       "\n",
       "                 date  y  \n",
       "0  December 31, 2017   0  \n",
       "1  December 29, 2017   0  \n",
       "2  December 31, 2017   0  \n",
       "3  December 30, 2017   0  \n",
       "4  December 29, 2017   0  "
      ]
     },
     "execution_count": 7,
     "metadata": {},
     "output_type": "execute_result"
    }
   ],
   "source": [
    "#Combine into one main dataframe\n",
    "df = pd.concat([df_true,df_fake], ignore_index = True)\n",
    "df.head()"
   ]
  },
  {
   "cell_type": "code",
   "execution_count": 8,
   "id": "complicated-musician",
   "metadata": {},
   "outputs": [
    {
     "name": "stdout",
     "output_type": "stream",
     "text": [
      "<class 'pandas.core.frame.DataFrame'>\n",
      "RangeIndex: 44898 entries, 0 to 44897\n",
      "Data columns (total 5 columns):\n",
      " #   Column   Non-Null Count  Dtype \n",
      "---  ------   --------------  ----- \n",
      " 0   title    44898 non-null  object\n",
      " 1   text     44898 non-null  object\n",
      " 2   subject  44898 non-null  object\n",
      " 3   date     44898 non-null  object\n",
      " 4   y        44898 non-null  int64 \n",
      "dtypes: int64(1), object(4)\n",
      "memory usage: 1.7+ MB\n"
     ]
    },
    {
     "data": {
      "text/plain": [
       "title      0\n",
       "text       0\n",
       "subject    0\n",
       "date       0\n",
       "y          0\n",
       "dtype: int64"
      ]
     },
     "execution_count": 8,
     "metadata": {},
     "output_type": "execute_result"
    }
   ],
   "source": [
    "#Get General Info about the data\n",
    "\n",
    "df.info()\n",
    "\n",
    "#Conclusion - \n",
    "\n",
    "\n",
    "\n",
    "#Check Duplicates\n",
    "\n",
    "d_data = df['text'].duplicated()\n",
    "df.loc[d_data].shape\n",
    "\n",
    "# Conclusion - around 6252 rows of data are duplicates\n",
    "\n",
    "\n",
    "#Dropping Duplicates\n",
    "df = df.drop_duplicates('text', keep='last')\n",
    "df.reset_index(drop=True)\n",
    "\n",
    "\n",
    "\n",
    "\n",
    "\n",
    "#Check Missing Values\n",
    "df.isnull().sum()\n",
    "\n",
    "# Conclusion - No values are Missing"
   ]
  },
  {
   "cell_type": "markdown",
   "id": "aggressive-swedish",
   "metadata": {
    "scrolled": true
   },
   "source": [
    "### Clean Data Column"
   ]
  },
  {
   "cell_type": "code",
   "execution_count": 9,
   "id": "cooked-cover",
   "metadata": {},
   "outputs": [],
   "source": [
    "\n",
    "\n",
    "'''\n",
    "\n",
    "# Correct Date Data\n",
    "\n",
    "Date coulumn would be important for data exploration, \n",
    "thus need to make sure its format is consistent and their is no noise present in the feature\n",
    "\n",
    "\n",
    "'''\n",
    "\n",
    "\n",
    "# Check for anamoly\n",
    "#print(df['date'].unique())\n",
    "\n",
    "\n",
    "'''\n",
    "Conclusion - \n",
    "- It can be noticed that there is  is white space in each value need to remove it\n",
    "- It can be noticed that some values are not dates and can be considered noise \n",
    "'''\n",
    "\n",
    "\n",
    "# Remove Whitespace\n",
    "df['date'] = df['date'].str.strip()\n",
    "\n",
    "\n",
    "\n",
    "\n",
    "\n",
    "# Remove rows where date is corrupted \n",
    "# - Make Months in simillar format so dates and noise can be filtered out later\n",
    "original_month = ['January','February','March','April','May','June','July','August','September','October','November','December']\n",
    "new_month = ['Jan','Feb','Mar','Apr','May','Jun','Jul','Aug','Sep','Oct','Nov','Dec']\n",
    "for i in range(0,12):\n",
    "    df['date'] = df['date'].str.replace(original_month[i],new_month[i])\n",
    "\n",
    "\n",
    "\n",
    "# - Check length and remove rows which have more characters than regular date data\n",
    "#print(df[df['date'].str.len() >12])\n",
    "df.drop(df[df['date'].str.len() >12].index, inplace=True)\n",
    "\n",
    "#Convert to date_time object\n",
    "\n",
    "#df['date'] = pd.to_datetime(df['date'], format='%d/%m/%Y', errors='coerce')\n",
    "\n",
    "\n",
    "#df['date'] = df['date'].to_string()\n",
    "\n",
    "\n",
    "\n",
    "#Conclusion - \n",
    "\n"
   ]
  },
  {
   "cell_type": "markdown",
   "id": "faced-aerospace",
   "metadata": {},
   "source": [
    "## Data Exploration"
   ]
  },
  {
   "cell_type": "code",
   "execution_count": null,
   "id": "better-portfolio",
   "metadata": {},
   "outputs": [],
   "source": [
    "df.columns"
   ]
  },
  {
   "cell_type": "markdown",
   "id": "threatened-devon",
   "metadata": {
    "scrolled": true
   },
   "source": [
    "### Is the amount of fake data equal to the true data? "
   ]
  },
  {
   "cell_type": "code",
   "execution_count": 10,
   "id": "egyptian-solution",
   "metadata": {},
   "outputs": [
    {
     "name": "stdout",
     "output_type": "stream",
     "text": [
      "True Shape:  (21191, 5)\n",
      "Fake Shape:  (17449, 5)\n",
      "3742\n"
     ]
    },
    {
     "name": "stderr",
     "output_type": "stream",
     "text": [
      "/usr/local/lib/python3.8/site-packages/seaborn/_decorators.py:36: FutureWarning: Pass the following variable as a keyword arg: x. From version 0.12, the only valid positional argument will be `data`, and passing other arguments without an explicit keyword will result in an error or misinterpretation.\n",
      "  warnings.warn(\n"
     ]
    },
    {
     "data": {
      "text/plain": [
       "<AxesSubplot:xlabel='y', ylabel='count'>"
      ]
     },
     "execution_count": 10,
     "metadata": {},
     "output_type": "execute_result"
    },
    {
     "data": {
      "image/png": "[encoded data removed]",
      "text/plain": [
       "<Figure size 432x288 with 1 Axes>"
      ]
     },
     "metadata": {
      "needs_background": "light"
     },
     "output_type": "display_data"
    }
   ],
   "source": [
    "'''Check Class-wise Data Distribution'''\n",
    "\n",
    "#Check Shape\n",
    "\n",
    "#Comment on the number of rows in each section and how it may effect classificaiton\n",
    "\n",
    "true_shape = df.loc[df['y']==0].shape\n",
    "fake_shape = df.loc[df['y']==1].shape\n",
    "print(\"True Shape: \",true_shape)\n",
    "print(\"Fake Shape: \",fake_shape)\n",
    "\n",
    "if true_shape > fake_shape:\n",
    "    print(true_shape[0] - fake_shape[0])\n",
    "else:\n",
    "    print(fake_shape[0] - true_shape[0])\n",
    "\n",
    "#Plot Frequency of each class\n",
    "sns.countplot(df.y)\n",
    "\n",
    "\n",
    " "
   ]
  },
  {
   "cell_type": "code",
   "execution_count": null,
   "id": "professional-wrist",
   "metadata": {},
   "outputs": [],
   "source": [
    "\"\"\"\n",
    "Conclusion: Roughly the same data size, so the sampling error would be negligable and can be ignored, \n",
    "thus no over/under sampling techenique needed.\n",
    "\n",
    "\"\"\""
   ]
  },
  {
   "cell_type": "markdown",
   "id": "mathematical-stevens",
   "metadata": {
    "scrolled": true
   },
   "source": [
    "### Are certian subjects bias towards a type of news ? "
   ]
  },
  {
   "cell_type": "code",
   "execution_count": 11,
   "id": "leading-ghana",
   "metadata": {},
   "outputs": [
    {
     "data": {
      "text/plain": [
       "politicsNews       11202\n",
       "worldnews           9989\n",
       "News                9050\n",
       "left-news           4302\n",
       "politics            2358\n",
       "Government News      956\n",
       "Middle-east          778\n",
       "US_News                5\n",
       "Name: subject, dtype: int64"
      ]
     },
     "execution_count": 11,
     "metadata": {},
     "output_type": "execute_result"
    }
   ],
   "source": [
    "df['subject'].value_counts()"
   ]
  },
  {
   "cell_type": "code",
   "execution_count": 20,
   "id": "devoted-preserve",
   "metadata": {},
   "outputs": [
    {
     "data": {
      "text/plain": [
       "array(['politicsNews', 'worldnews'], dtype=object)"
      ]
     },
     "execution_count": 20,
     "metadata": {},
     "output_type": "execute_result"
    }
   ],
   "source": [
    "true = df[df['y']==0]\n",
    "true['subject'].unique()"
   ]
  },
  {
   "cell_type": "code",
   "execution_count": 22,
   "id": "oriental-senate",
   "metadata": {},
   "outputs": [
    {
     "data": {
      "text/plain": [
       "array(['News', 'politics', 'Government News', 'left-news', 'US_News',\n",
       "       'Middle-east'], dtype=object)"
      ]
     },
     "execution_count": 22,
     "metadata": {},
     "output_type": "execute_result"
    }
   ],
   "source": [
    "fake = df[df['y']==1]\n",
    "fake['subject'].unique()"
   ]
  },
  {
   "cell_type": "code",
   "execution_count": 17,
   "id": "relative-primary",
   "metadata": {},
   "outputs": [
    {
     "data": {
      "text/plain": [
       "<matplotlib.legend.Legend at 0x121f1ca00>"
      ]
     },
     "execution_count": 17,
     "metadata": {},
     "output_type": "execute_result"
    },
    {
     "data": {
      "image/png": "[encoded data removed]",
      "text/plain": [
       "<Figure size 1080x504 with 1 Axes>"
      ]
     },
     "metadata": {},
     "output_type": "display_data"
    }
   ],
   "source": [
    "#Plotting out the Subject and its association with type of news\n",
    "f, ax = plt.subplots(figsize=(15, 7))\n",
    "sns.set_style(\"darkgrid\")\n",
    "sns.set(font_scale=2)\n",
    "g = sns.countplot(y=\"subject\", data=df, hue=\"y\")\n",
    "new_labels = ['True Data', 'Fake Data']\n",
    "plt.legend(labels=['True News', 'Fake News'])"
   ]
  },
  {
   "cell_type": "code",
   "execution_count": null,
   "id": "legal-competition",
   "metadata": {},
   "outputs": [],
   "source": [
    "\"\"\"\n",
    "Conclusion: There is no overlap of subjects between the 2 types of news, thus Subject is an \n",
    "independent variable and would not help to classify between the types of news. \n",
    "\n",
    "Needs to be removed later during feature processing.\n",
    "\n",
    "\"\"\""
   ]
  },
  {
   "cell_type": "markdown",
   "id": "nearby-invasion",
   "metadata": {
    "scrolled": true
   },
   "source": [
    "### Is the Fake/True data related to certian time period?"
   ]
  },
  {
   "cell_type": "code",
   "execution_count": 16,
   "id": "surprised-resort",
   "metadata": {},
   "outputs": [
    {
     "data": {
      "text/plain": [
       "38640"
      ]
     },
     "execution_count": 16,
     "metadata": {},
     "output_type": "execute_result"
    }
   ],
   "source": [
    "df['title'].count()"
   ]
  },
  {
   "cell_type": "code",
   "execution_count": null,
   "id": "impaired-galaxy",
   "metadata": {},
   "outputs": [],
   "source": []
  },
  {
   "cell_type": "markdown",
   "id": "played-cloud",
   "metadata": {
    "scrolled": true
   },
   "source": [
    "### Are certian subjects bias towards a type of news ? "
   ]
  },
  {
   "cell_type": "code",
   "execution_count": null,
   "id": "fundamental-messenger",
   "metadata": {},
   "outputs": [],
   "source": [
    "#Plot date related graph"
   ]
  },
  {
   "cell_type": "code",
   "execution_count": null,
   "id": "driven-society",
   "metadata": {},
   "outputs": [],
   "source": [
    "#Plot \n",
    "'''\n",
    "Is the amount of fake data equal to the true data? \n",
    "\n",
    "\n",
    "\n",
    "Which subjects are more prominently covered by news? \n",
    "Are certian subjects bias towards the type of news ? \n",
    "\n",
    "\n",
    "\n",
    "\n",
    "Is the Fake/True data related to certian time period? \n",
    "\n",
    "Whats the time wise relation between true and fake data?\n",
    "\n",
    "\n",
    "What words are most common in title/text asnd associated with fake/true?\n",
    "\n",
    "\n",
    "\n",
    "'''"
   ]
  },
  {
   "cell_type": "code",
   "execution_count": null,
   "id": "floral-worship",
   "metadata": {},
   "outputs": [],
   "source": []
  },
  {
   "cell_type": "code",
   "execution_count": null,
   "id": "sonic-adventure",
   "metadata": {},
   "outputs": [],
   "source": [
    "## Data Exploration\n",
    "# Plot not text plotting - \n",
    "#Plot frequency and check and find relations between features and use in model"
   ]
  },
  {
   "cell_type": "code",
   "execution_count": null,
   "id": "optical-blocking",
   "metadata": {},
   "outputs": [],
   "source": [
    "#Plot Frequency"
   ]
  },
  {
   "cell_type": "code",
   "execution_count": null,
   "id": "japanese-cursor",
   "metadata": {},
   "outputs": [],
   "source": [
    "#Conclusion"
   ]
  },
  {
   "cell_type": "markdown",
   "id": "fifth-dakota",
   "metadata": {},
   "source": [
    "## Data Preparation"
   ]
  },
  {
   "cell_type": "code",
   "execution_count": null,
   "id": "suffering-examination",
   "metadata": {},
   "outputs": [],
   "source": [
    "## Feature Engineering\n",
    "\n",
    "\n",
    "#Drop Date\n",
    "#Tokenize\n",
    "#Stemmer\n",
    "#Stop Words\n",
    "#Convert to vectors\n",
    "#One Hot Encode\n",
    "\n",
    "\n",
    "#Pre process \n",
    "vocab_size = 10000\n",
    "corpus = []\n",
    "ps = PorterStemmer() ## used for standardization of words\n",
    "\n",
    "for i in range(0,len(news_data_final)):\n",
    "    message = re.sub('[^a-zA-Z]',' ',news_data_final['title'][i]) ## except a-z and A-Z all charectors will be replaced by space\n",
    "    message = message.lower() ## then make every words in lower\n",
    "    message = message.split() ## then split every words in list\n",
    "    \n",
    "    message = [ps.stem(word) for word in message if not word in stoplist] ## use stem to stem words which are not in stoplist\n",
    "    message = ' '.join(message) ## then join those words to make the full sentence as a list \n",
    "    corpus.append(message) ## then append all the sentences in the corpus\n",
    "    \n",
    "    \n",
    "    \n",
    "\n"
   ]
  },
  {
   "cell_type": "code",
   "execution_count": null,
   "id": "behind-annotation",
   "metadata": {},
   "outputs": [],
   "source": []
  },
  {
   "cell_type": "code",
   "execution_count": null,
   "id": "exposed-wrapping",
   "metadata": {},
   "outputs": [],
   "source": [
    "ps = PorterStemmer()\n",
    "corpus = []\n",
    "for i in range(0, len(final_data)):\n",
    "    review = re.sub('[^a-zA-Z]', ' ', final_data['title'][i])\n",
    "    review = review.lower()\n",
    "    review = review.split()\n",
    "    \n",
    "    review = [ps.stem(word) for word in review if not word in stopwords.words('english')]\n",
    "    review = ' '.join(review)\n",
    "    corpus.append(review)"
   ]
  },
  {
   "cell_type": "code",
   "execution_count": null,
   "id": "dense-chile",
   "metadata": {},
   "outputs": [],
   "source": []
  },
  {
   "cell_type": "code",
   "execution_count": null,
   "id": "concerned-appearance",
   "metadata": {},
   "outputs": [],
   "source": [
    "#BOW to vectorize sentence\n",
    "from sklearn.feature_extraction.text import CountVectorizer\n",
    "vectorizer = CountVectorizer()\n",
    "vectorizer.fit(sentences_train)\n",
    "\n",
    "X_train = vectorizer.transform(X_train)\n",
    "X_test  = vectorizer.transform(X_test)"
   ]
  },
  {
   "cell_type": "code",
   "execution_count": null,
   "id": "general-choir",
   "metadata": {},
   "outputs": [],
   "source": [
    "# Train Test Split\n",
    "from sklearn.model_selection import train_test_split\n",
    "train, test = train_test_split(df, test_size=0.3)\n",
    "X_train = train.drop('y', axis=1)\n",
    "y_train = train['y']\n",
    "X_test = test.drop('y', axis=1)\n",
    "y_test = test['y']\n",
    "\n"
   ]
  },
  {
   "cell_type": "markdown",
   "id": "stock-hotel",
   "metadata": {},
   "source": [
    "## Model Init"
   ]
  },
  {
   "cell_type": "code",
   "execution_count": null,
   "id": "divine-parks",
   "metadata": {},
   "outputs": [],
   "source": [
    "#Models\n",
    "#SVM\n",
    "# Naive Bayes\n",
    "\n",
    "# Transformers / LSTM RNN smtn\n"
   ]
  },
  {
   "cell_type": "code",
   "execution_count": null,
   "id": "necessary-exception",
   "metadata": {},
   "outputs": [],
   "source": [
    "classifier = LogisticRegression()\n",
    "classifier.fit(X_train, y_train)\n",
    "score = classifier.score(X_test, y_test)\n",
    "print('Accuracy for {} data: {:.4f}'.format(source, score))"
   ]
  },
  {
   "cell_type": "code",
   "execution_count": null,
   "id": "material-observer",
   "metadata": {},
   "outputs": [],
   "source": [
    "from tensorflow.keras.layers import Embedding,Dense,LSTM,Dropout\n",
    "from tensorflow.keras.models import Sequential\n",
    "\n",
    "## Creating mod\n",
    "embedding_vector_features=40\n",
    "model=Sequential()\n",
    "model.add(Embedding(vocab_size,embedding_vector_features,input_length=20)) ## embedding layer used 40 features to make feature representation of the sentences\n",
    "model.add(Dropout(0.3))\n",
    "model.add(LSTM(100))\n",
    "model.add(Dropout(0.3)) ## drop out layer to make the model more regularized\n",
    "model.add(Dense(1,activation='sigmoid'))\n",
    "model.compile(loss='binary_crossentropy',optimizer='adam',metrics=['accuracy'])\n",
    "print(model.summary()) ## model architechture done"
   ]
  },
  {
   "cell_type": "code",
   "execution_count": null,
   "id": "flush-railway",
   "metadata": {},
   "outputs": [],
   "source": [
    "model = Sequential()\n",
    "model.add(Embeding())\n"
   ]
  },
  {
   "cell_type": "code",
   "execution_count": null,
   "id": "considerable-layout",
   "metadata": {},
   "outputs": [],
   "source": []
  },
  {
   "cell_type": "code",
   "execution_count": null,
   "id": "antique-germany",
   "metadata": {},
   "outputs": [],
   "source": [
    "\n"
   ]
  },
  {
   "cell_type": "code",
   "execution_count": null,
   "id": "convertible-johns",
   "metadata": {},
   "outputs": [],
   "source": []
  },
  {
   "cell_type": "code",
   "execution_count": null,
   "id": "noticed-extent",
   "metadata": {},
   "outputs": [],
   "source": []
  },
  {
   "cell_type": "code",
   "execution_count": null,
   "id": "lonely-leeds",
   "metadata": {},
   "outputs": [],
   "source": []
  }
 ],
 "metadata": {
  "kernelspec": {
   "display_name": "Python 3",
   "language": "python",
   "name": "python3"
  },
  "language_info": {
   "codemirror_mode": {
    "name": "ipython",
    "version": 3
   },
   "file_extension": ".py",
   "mimetype": "text/x-python",
   "name": "python",
   "nbconvert_exporter": "python",
   "pygments_lexer": "ipython3",
   "version": "3.8.5"
  }
 },
 "nbformat": 4,
 "nbformat_minor": 5
}
